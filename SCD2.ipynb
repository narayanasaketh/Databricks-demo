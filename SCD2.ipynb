{
 "cells": [
  {
   "cell_type": "code",
   "execution_count": 0,
   "metadata": {
    "application/vnd.databricks.v1+cell": {
     "cellMetadata": {},
     "inputWidgets": {},
     "nuid": "7c720592-b650-4c27-baa1-02f8df5ae12d",
     "showTitle": false,
     "tableResultSettingsMap": {},
     "title": ""
    }
   },
   "outputs": [],
   "source": [
    "%sql\n",
    "-- Step 1: Close old records if there are changes\n",
    "MERGE INTO product_scd2 AS target\n",
    "USING product_source AS source\n",
    "ON target.product_id = source.product_id AND target.is_current = 1\n",
    "WHEN MATCHED AND (\n",
    "    target.product_name != source.product_name OR\n",
    "    target.category != source.category OR\n",
    "    target.price != source.price OR\n",
    "    target.product_description != source.product_description\n",
    ")\n",
    "THEN \n",
    "UPDATE SET \n",
    "    target.effective_end_date = CURRENT_DATE, \n",
    "    target.is_current = 0;\n",
    "\n",
    "-- Step 2: Insert new versions for only updated records (Prevent Duplicates)\n",
    "INSERT INTO product_scd2 (\n",
    "    product_id, product_name, category, price, product_description, \n",
    "    effective_start_date, effective_end_date, is_current\n",
    ")\n",
    "SELECT \n",
    "    source.product_id, source.product_name, source.category, \n",
    "    source.price, source.product_description, CURRENT_DATE, NULL, 1\n",
    "FROM product_source AS source\n",
    "WHERE EXISTS (\n",
    "    SELECT 1 FROM product_scd2 AS target\n",
    "    WHERE source.product_id = target.product_id \n",
    "    AND target.is_current = 0 -- Only insert if there was a closed record\n",
    ")\n",
    "AND NOT EXISTS (\n",
    "    -- New Condition: Ensure we do NOT insert if an identical active record already exists\n",
    "    SELECT 1 FROM product_scd2 AS active\n",
    "    WHERE source.product_id = active.product_id \n",
    "    AND active.is_current = 1 -- Only check active records\n",
    "    AND source.product_name = active.product_name\n",
    "    AND source.category = active.category\n",
    "    AND source.price = active.price\n",
    "    AND source.product_description = active.product_description\n",
    ");\n",
    "\n",
    "--Step 3: Insert completely new records\n",
    "INSERT INTO product_scd2 (\n",
    "    product_id, product_name, category, price, product_description, \n",
    "    effective_start_date, effective_end_date, is_current\n",
    ")\n",
    "SELECT DISTINCT\n",
    "    source.product_id, source.product_name, source.category, \n",
    "    source.price, source.product_description, CURRENT_DATE, NULL, 1\n",
    "FROM product_source AS source\n",
    "LEFT JOIN product_scd2 AS target\n",
    "ON source.product_id = target.product_id\n",
    "WHERE target.product_id IS NULL; -- Only insert if product_id does not exist in target\n"
   ]
  }
 ],
 "metadata": {
  "application/vnd.databricks.v1+notebook": {
   "computePreferences": null,
   "dashboards": [],
   "environmentMetadata": {
    "base_environment": "",
    "environment_version": "2"
   },
   "language": "python",
   "notebookMetadata": {
    "pythonIndentUnit": 4
   },
   "notebookName": "SCD2",
   "widgets": {}
  },
  "language_info": {
   "name": "python"
  }
 },
 "nbformat": 4,
 "nbformat_minor": 0
}
